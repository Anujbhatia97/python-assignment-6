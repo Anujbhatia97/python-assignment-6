{
 "cells": [
  {
   "cell_type": "code",
   "execution_count": null,
   "id": "d7b05d0d",
   "metadata": {},
   "outputs": [],
   "source": [
    "Q1.What are Escape characters ? and how do you use them ?\n",
    "Ans: Escape characters represent characters in string values that would otherwise be difficult or impossible to type into code. we can use the backslash character to escape a single character or symbol\n",
    "example: \\t, \\n"
   ]
  },
  {
   "cell_type": "code",
   "execution_count": null,
   "id": "9f9af350",
   "metadata": {},
   "outputs": [],
   "source": [
    "Q2.What do the escape characters n and t stand for ?\n",
    "Ans: \\n is a newline, \\t is a tab"
   ]
  },
  {
   "cell_type": "code",
   "execution_count": null,
   "id": "a1d5c4fd",
   "metadata": {},
   "outputs": [],
   "source": [
    "Q3.What is the way to include backslash character in a string?\n",
    "Ans: The \\\\ escape character will represent the backslash character in a string"
   ]
  },
  {
   "cell_type": "code",
   "execution_count": null,
   "id": "8032363c",
   "metadata": {},
   "outputs": [],
   "source": [
    "Q4.The string \"Howl's Moving Castle\" is a correct value. Why isn't the single quote character in the word Howl's not escaped a problem ?\n",
    "Ans: The string \"Howl's Moving Castle\" escaped the problem because it is wrapped inside double quotes. if its wrapped inside single quotes then we have to use escape character \\' to show single quote in the final output\n",
    "'Howl\\'s Moving Castle' -> 'Howl's Moving Castle'"
   ]
  },
  {
   "cell_type": "code",
   "execution_count": null,
   "id": "5ca852f9",
   "metadata": {},
   "outputs": [],
   "source": [
    "Q5.How do you write a string of newlines if you don't want to use the n character?\n",
    "Ans: Multiline string allow you to use newlines in string without the \\n escape character"
   ]
  },
  {
   "cell_type": "markdown",
   "id": "56939638",
   "metadata": {},
   "source": [
    "# Q6.What are the values of the given expressions ?"
   ]
  },
  {
   "cell_type": "code",
   "execution_count": 4,
   "id": "0d0a6445",
   "metadata": {},
   "outputs": [
    {
     "data": {
      "text/plain": [
       "'e'"
      ]
     },
     "execution_count": 4,
     "metadata": {},
     "output_type": "execute_result"
    }
   ],
   "source": [
    "'Hello, world!'[1]"
   ]
  },
  {
   "cell_type": "code",
   "execution_count": 5,
   "id": "b3589855",
   "metadata": {},
   "outputs": [
    {
     "data": {
      "text/plain": [
       "'Hello'"
      ]
     },
     "execution_count": 5,
     "metadata": {},
     "output_type": "execute_result"
    }
   ],
   "source": [
    "'Hello, world!'[0:5]"
   ]
  },
  {
   "cell_type": "code",
   "execution_count": 6,
   "id": "f18e1408",
   "metadata": {},
   "outputs": [
    {
     "data": {
      "text/plain": [
       "'Hello'"
      ]
     },
     "execution_count": 6,
     "metadata": {},
     "output_type": "execute_result"
    }
   ],
   "source": [
    "'Hello, world!'[:5]"
   ]
  },
  {
   "cell_type": "code",
   "execution_count": 7,
   "id": "b739694f",
   "metadata": {},
   "outputs": [
    {
     "data": {
      "text/plain": [
       "'lo, world!'"
      ]
     },
     "execution_count": 7,
     "metadata": {},
     "output_type": "execute_result"
    }
   ],
   "source": [
    "'Hello, world!'[3:]"
   ]
  },
  {
   "cell_type": "markdown",
   "id": "b58f4bc3",
   "metadata": {},
   "source": [
    "Q7.What are the values of the following expressions ?"
   ]
  },
  {
   "cell_type": "code",
   "execution_count": 8,
   "id": "178bccde",
   "metadata": {},
   "outputs": [
    {
     "data": {
      "text/plain": [
       "'HELLO'"
      ]
     },
     "execution_count": 8,
     "metadata": {},
     "output_type": "execute_result"
    }
   ],
   "source": [
    "'Hello'.upper() "
   ]
  },
  {
   "cell_type": "code",
   "execution_count": 10,
   "id": "96301398",
   "metadata": {},
   "outputs": [
    {
     "data": {
      "text/plain": [
       "True"
      ]
     },
     "execution_count": 10,
     "metadata": {},
     "output_type": "execute_result"
    }
   ],
   "source": [
    "'Hello'.upper().isupper()"
   ]
  },
  {
   "cell_type": "code",
   "execution_count": 11,
   "id": "36bfef21",
   "metadata": {},
   "outputs": [
    {
     "data": {
      "text/plain": [
       "'hello'"
      ]
     },
     "execution_count": 11,
     "metadata": {},
     "output_type": "execute_result"
    }
   ],
   "source": [
    "'Hello'.upper().lower() "
   ]
  },
  {
   "cell_type": "markdown",
   "id": "734819d2",
   "metadata": {},
   "source": [
    "#Q8.What are the values of the following expressions ?"
   ]
  },
  {
   "cell_type": "code",
   "execution_count": 14,
   "id": "7084337c",
   "metadata": {},
   "outputs": [
    {
     "data": {
      "text/plain": [
       "['Remember,', 'remember,', 'the', 'fifith', 'of', 'July.']"
      ]
     },
     "execution_count": 14,
     "metadata": {},
     "output_type": "execute_result"
    }
   ],
   "source": [
    "'Remember, remember, the fifith of July.'.split()"
   ]
  },
  {
   "cell_type": "code",
   "execution_count": 15,
   "id": "13264685",
   "metadata": {},
   "outputs": [
    {
     "ename": "SyntaxError",
     "evalue": "invalid syntax (Temp/ipykernel_13404/2970573083.py, line 1)",
     "output_type": "error",
     "traceback": [
      "\u001b[1;36m  File \u001b[1;32m\"C:\\Users\\HP\\AppData\\Local\\Temp/ipykernel_13404/2970573083.py\"\u001b[1;36m, line \u001b[1;32m1\u001b[0m\n\u001b[1;33m    -'.join('There can only one'.split())\u001b[0m\n\u001b[1;37m             ^\u001b[0m\n\u001b[1;31mSyntaxError\u001b[0m\u001b[1;31m:\u001b[0m invalid syntax\n"
     ]
    }
   ],
   "source": [
    "-'.join('There can only one'.split())"
   ]
  },
  {
   "cell_type": "code",
   "execution_count": null,
   "id": "6fae2a10",
   "metadata": {},
   "outputs": [],
   "source": [
    "9.What are the methods for right-justifying, left-justifying and centering a string ?\n",
    "Ans: The rjust(),ljust(),center() string methods, respectively"
   ]
  },
  {
   "cell_type": "code",
   "execution_count": null,
   "id": "f2bb3425",
   "metadata": {},
   "outputs": [],
   "source": [
    "10.What is the best way to remove whitespace characters from the start or end ?\n",
    "Ans: The lstrip() and rstrip() methods remove whitesapce characters from the left and right ends of a string respectively"
   ]
  }
 ],
 "metadata": {
  "kernelspec": {
   "display_name": "Python 3 (ipykernel)",
   "language": "python",
   "name": "python3"
  },
  "language_info": {
   "codemirror_mode": {
    "name": "ipython",
    "version": 3
   },
   "file_extension": ".py",
   "mimetype": "text/x-python",
   "name": "python",
   "nbconvert_exporter": "python",
   "pygments_lexer": "ipython3",
   "version": "3.9.7"
  }
 },
 "nbformat": 4,
 "nbformat_minor": 5
}
